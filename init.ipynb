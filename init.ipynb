{
 "cells": [
  {
   "cell_type": "code",
   "execution_count": 3,
   "metadata": {},
   "outputs": [],
   "source": [
    "BUYING_VALUE_WITH_GLUE_A4 = 14.\n",
    "BUYING_VALUE_WITHOUT_GLUE_A4 = 13.\n",
    "\n",
    "BUYING_VALUE_WITH_GLUE_30 = 16.\n",
    "BUYING_VALUE_WITHOUT_GLUE_30 = 15.\n",
    "\n",
    "\n",
    "SELLING_VALUE_WITH_GLUE_A4 = 19.9\n",
    "SELLING_VALUE_WITHOUT_GLUE_A4 = 18.9\n",
    "\n",
    "SELLING_VALUE_WITH_GLUE_30 = 21.9\n",
    "SELLING_VALUE_WITHOUT_GLUE_30 = 20.9"
   ]
  },
  {
   "cell_type": "code",
   "execution_count": 4,
   "metadata": {},
   "outputs": [],
   "source": [
    "MARKETPLACE_AMAZON = 0.14\n",
    "MARKETPLACE_SHOPEE = 0.21"
   ]
  },
  {
   "cell_type": "code",
   "execution_count": null,
   "metadata": {},
   "outputs": [],
   "source": []
  }
 ],
 "metadata": {
  "kernelspec": {
   "display_name": "Python 3",
   "language": "python",
   "name": "python3"
  },
  "language_info": {
   "codemirror_mode": {
    "name": "ipython",
    "version": 3
   },
   "file_extension": ".py",
   "mimetype": "text/x-python",
   "name": "python",
   "nbconvert_exporter": "python",
   "pygments_lexer": "ipython3",
   "version": "3.10.12"
  },
  "orig_nbformat": 4
 },
 "nbformat": 4,
 "nbformat_minor": 2
}
