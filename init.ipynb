{
 "cells": [
  {
   "cell_type": "code",
   "execution_count": 13,
   "metadata": {},
   "outputs": [],
   "source": [
    "import pandas as pd"
   ]
  },
  {
   "cell_type": "code",
   "execution_count": 14,
   "metadata": {},
   "outputs": [],
   "source": [
    "BUYING_VALUE_WITH_GLUE_A4 = 14.\n",
    "BUYING_VALUE_WITHOUT_GLUE_A4 = 13.\n",
    "\n",
    "BUYING_VALUE_WITH_GLUE_30 = 16.\n",
    "BUYING_VALUE_WITHOUT_GLUE_30 = 15.\n",
    "\n",
    "\n",
    "SELLING_VALUE_WITH_GLUE_A4 = 19.9\n",
    "SELLING_VALUE_WITHOUT_GLUE_A4 = 18.9\n",
    "\n",
    "SELLING_VALUE_WITH_GLUE_30 = 21.9\n",
    "SELLING_VALUE_WITHOUT_GLUE_30 = 20.9"
   ]
  },
  {
   "cell_type": "code",
   "execution_count": 15,
   "metadata": {},
   "outputs": [],
   "source": [
    "MARKETPLACE_AMAZON = 0.14\n",
    "MARKETPLACE_SHOPEE = 0.21"
   ]
  },
  {
   "cell_type": "code",
   "execution_count": 16,
   "metadata": {},
   "outputs": [],
   "source": [
    "PRODUCTS = [\"A4 Com Cola\", \"A4 Sem Cola\", \"30x30 Com Cola\", \"30x30 Sem Cola\"]"
   ]
  },
  {
   "cell_type": "code",
   "execution_count": 17,
   "metadata": {},
   "outputs": [],
   "source": [
    "data = {\n",
    "    \"ID\": [1,2,3,4],\n",
    "    \"Produtos\": PRODUCTS,\n",
    "    \"Preço de Compra\": [BUYING_VALUE_WITH_GLUE_A4, BUYING_VALUE_WITHOUT_GLUE_A4, BUYING_VALUE_WITH_GLUE_30, BUYING_VALUE_WITHOUT_GLUE_30],\n",
    "    \"Preço de Venda\": [SELLING_VALUE_WITH_GLUE_A4, SELLING_VALUE_WITHOUT_GLUE_A4, SELLING_VALUE_WITH_GLUE_30, SELLING_VALUE_WITHOUT_GLUE_30]\n",
    "}"
   ]
  },
  {
   "cell_type": "code",
   "execution_count": 18,
   "metadata": {},
   "outputs": [
    {
     "data": {
      "text/html": [
       "<div>\n",
       "<style scoped>\n",
       "    .dataframe tbody tr th:only-of-type {\n",
       "        vertical-align: middle;\n",
       "    }\n",
       "\n",
       "    .dataframe tbody tr th {\n",
       "        vertical-align: top;\n",
       "    }\n",
       "\n",
       "    .dataframe thead th {\n",
       "        text-align: right;\n",
       "    }\n",
       "</style>\n",
       "<table border=\"1\" class=\"dataframe\">\n",
       "  <thead>\n",
       "    <tr style=\"text-align: right;\">\n",
       "      <th></th>\n",
       "      <th>ID</th>\n",
       "      <th>Produtos</th>\n",
       "      <th>Preço de Compra</th>\n",
       "      <th>Preço de Venda</th>\n",
       "    </tr>\n",
       "  </thead>\n",
       "  <tbody>\n",
       "    <tr>\n",
       "      <th>0</th>\n",
       "      <td>1</td>\n",
       "      <td>A4 Com Cola</td>\n",
       "      <td>14.0</td>\n",
       "      <td>19.9</td>\n",
       "    </tr>\n",
       "    <tr>\n",
       "      <th>1</th>\n",
       "      <td>2</td>\n",
       "      <td>A4 Sem Cola</td>\n",
       "      <td>13.0</td>\n",
       "      <td>18.9</td>\n",
       "    </tr>\n",
       "    <tr>\n",
       "      <th>2</th>\n",
       "      <td>3</td>\n",
       "      <td>30x30 Com Cola</td>\n",
       "      <td>16.0</td>\n",
       "      <td>21.9</td>\n",
       "    </tr>\n",
       "    <tr>\n",
       "      <th>3</th>\n",
       "      <td>4</td>\n",
       "      <td>30x30 Sem Cola</td>\n",
       "      <td>15.0</td>\n",
       "      <td>20.9</td>\n",
       "    </tr>\n",
       "  </tbody>\n",
       "</table>\n",
       "</div>"
      ],
      "text/plain": [
       "   ID        Produtos  Preço de Compra  Preço de Venda\n",
       "0   1     A4 Com Cola             14.0            19.9\n",
       "1   2     A4 Sem Cola             13.0            18.9\n",
       "2   3  30x30 Com Cola             16.0            21.9\n",
       "3   4  30x30 Sem Cola             15.0            20.9"
      ]
     },
     "execution_count": 18,
     "metadata": {},
     "output_type": "execute_result"
    }
   ],
   "source": [
    "df_products = pd.DataFrame(data)\n",
    "df_products"
   ]
  },
  {
   "cell_type": "code",
   "execution_count": 19,
   "metadata": {},
   "outputs": [
    {
     "data": {
      "text/html": [
       "<div>\n",
       "<style scoped>\n",
       "    .dataframe tbody tr th:only-of-type {\n",
       "        vertical-align: middle;\n",
       "    }\n",
       "\n",
       "    .dataframe tbody tr th {\n",
       "        vertical-align: top;\n",
       "    }\n",
       "\n",
       "    .dataframe thead th {\n",
       "        text-align: right;\n",
       "    }\n",
       "</style>\n",
       "<table border=\"1\" class=\"dataframe\">\n",
       "  <thead>\n",
       "    <tr style=\"text-align: right;\">\n",
       "      <th></th>\n",
       "      <th>Produtos</th>\n",
       "      <th>Preço de Compra</th>\n",
       "      <th>Preço de Venda</th>\n",
       "    </tr>\n",
       "    <tr>\n",
       "      <th>ID</th>\n",
       "      <th></th>\n",
       "      <th></th>\n",
       "      <th></th>\n",
       "    </tr>\n",
       "  </thead>\n",
       "  <tbody>\n",
       "    <tr>\n",
       "      <th>1</th>\n",
       "      <td>A4 Com Cola</td>\n",
       "      <td>14.0</td>\n",
       "      <td>19.9</td>\n",
       "    </tr>\n",
       "    <tr>\n",
       "      <th>2</th>\n",
       "      <td>A4 Sem Cola</td>\n",
       "      <td>13.0</td>\n",
       "      <td>18.9</td>\n",
       "    </tr>\n",
       "    <tr>\n",
       "      <th>3</th>\n",
       "      <td>30x30 Com Cola</td>\n",
       "      <td>16.0</td>\n",
       "      <td>21.9</td>\n",
       "    </tr>\n",
       "    <tr>\n",
       "      <th>4</th>\n",
       "      <td>30x30 Sem Cola</td>\n",
       "      <td>15.0</td>\n",
       "      <td>20.9</td>\n",
       "    </tr>\n",
       "  </tbody>\n",
       "</table>\n",
       "</div>"
      ],
      "text/plain": [
       "          Produtos  Preço de Compra  Preço de Venda\n",
       "ID                                                 \n",
       "1      A4 Com Cola             14.0            19.9\n",
       "2      A4 Sem Cola             13.0            18.9\n",
       "3   30x30 Com Cola             16.0            21.9\n",
       "4   30x30 Sem Cola             15.0            20.9"
      ]
     },
     "execution_count": 19,
     "metadata": {},
     "output_type": "execute_result"
    }
   ],
   "source": [
    "df_products.set_index(\"ID\", inplace=True)\n",
    "df_products"
   ]
  },
  {
   "cell_type": "code",
   "execution_count": 20,
   "metadata": {},
   "outputs": [],
   "source": [
    "df_amazon = df_products.copy()\n",
    "df_amazon[\"Marketplace Amazon\"] = MARKETPLACE_AMAZON\n",
    "df_amazon[\"Lucro\"] = df_amazon[\"Preço de Venda\"].apply(lambda value: round(value*(1-MARKETPLACE_AMAZON), 2))"
   ]
  },
  {
   "cell_type": "code",
   "execution_count": 21,
   "metadata": {},
   "outputs": [
    {
     "data": {
      "text/html": [
       "<div>\n",
       "<style scoped>\n",
       "    .dataframe tbody tr th:only-of-type {\n",
       "        vertical-align: middle;\n",
       "    }\n",
       "\n",
       "    .dataframe tbody tr th {\n",
       "        vertical-align: top;\n",
       "    }\n",
       "\n",
       "    .dataframe thead th {\n",
       "        text-align: right;\n",
       "    }\n",
       "</style>\n",
       "<table border=\"1\" class=\"dataframe\">\n",
       "  <thead>\n",
       "    <tr style=\"text-align: right;\">\n",
       "      <th></th>\n",
       "      <th>Produtos</th>\n",
       "      <th>Preço de Compra</th>\n",
       "      <th>Preço de Venda</th>\n",
       "      <th>Marketplace Amazon</th>\n",
       "      <th>Lucro</th>\n",
       "    </tr>\n",
       "    <tr>\n",
       "      <th>ID</th>\n",
       "      <th></th>\n",
       "      <th></th>\n",
       "      <th></th>\n",
       "      <th></th>\n",
       "      <th></th>\n",
       "    </tr>\n",
       "  </thead>\n",
       "  <tbody>\n",
       "    <tr>\n",
       "      <th>1</th>\n",
       "      <td>A4 Com Cola</td>\n",
       "      <td>14.0</td>\n",
       "      <td>19.9</td>\n",
       "      <td>0.14</td>\n",
       "      <td>17.11</td>\n",
       "    </tr>\n",
       "    <tr>\n",
       "      <th>2</th>\n",
       "      <td>A4 Sem Cola</td>\n",
       "      <td>13.0</td>\n",
       "      <td>18.9</td>\n",
       "      <td>0.14</td>\n",
       "      <td>16.25</td>\n",
       "    </tr>\n",
       "    <tr>\n",
       "      <th>3</th>\n",
       "      <td>30x30 Com Cola</td>\n",
       "      <td>16.0</td>\n",
       "      <td>21.9</td>\n",
       "      <td>0.14</td>\n",
       "      <td>18.83</td>\n",
       "    </tr>\n",
       "    <tr>\n",
       "      <th>4</th>\n",
       "      <td>30x30 Sem Cola</td>\n",
       "      <td>15.0</td>\n",
       "      <td>20.9</td>\n",
       "      <td>0.14</td>\n",
       "      <td>17.97</td>\n",
       "    </tr>\n",
       "  </tbody>\n",
       "</table>\n",
       "</div>"
      ],
      "text/plain": [
       "          Produtos  Preço de Compra  Preço de Venda  Marketplace Amazon  Lucro\n",
       "ID                                                                            \n",
       "1      A4 Com Cola             14.0            19.9                0.14  17.11\n",
       "2      A4 Sem Cola             13.0            18.9                0.14  16.25\n",
       "3   30x30 Com Cola             16.0            21.9                0.14  18.83\n",
       "4   30x30 Sem Cola             15.0            20.9                0.14  17.97"
      ]
     },
     "execution_count": 21,
     "metadata": {},
     "output_type": "execute_result"
    }
   ],
   "source": [
    "df_amazon"
   ]
  },
  {
   "cell_type": "code",
   "execution_count": 22,
   "metadata": {},
   "outputs": [],
   "source": [
    "df_shopee = df_products.copy()\n",
    "df_shopee[\"Marketplace Shopee\"] = MARKETPLACE_SHOPEE\n",
    "df_shopee[\"Lucro\"] = df_shopee[\"Preço de Venda\"].apply(lambda value: round(value*(1-MARKETPLACE_SHOPEE), 2))"
   ]
  },
  {
   "cell_type": "code",
   "execution_count": 23,
   "metadata": {},
   "outputs": [
    {
     "data": {
      "text/html": [
       "<div>\n",
       "<style scoped>\n",
       "    .dataframe tbody tr th:only-of-type {\n",
       "        vertical-align: middle;\n",
       "    }\n",
       "\n",
       "    .dataframe tbody tr th {\n",
       "        vertical-align: top;\n",
       "    }\n",
       "\n",
       "    .dataframe thead th {\n",
       "        text-align: right;\n",
       "    }\n",
       "</style>\n",
       "<table border=\"1\" class=\"dataframe\">\n",
       "  <thead>\n",
       "    <tr style=\"text-align: right;\">\n",
       "      <th></th>\n",
       "      <th>Produtos</th>\n",
       "      <th>Preço de Compra</th>\n",
       "      <th>Preço de Venda</th>\n",
       "      <th>Marketplace Shopee</th>\n",
       "      <th>Lucro</th>\n",
       "    </tr>\n",
       "    <tr>\n",
       "      <th>ID</th>\n",
       "      <th></th>\n",
       "      <th></th>\n",
       "      <th></th>\n",
       "      <th></th>\n",
       "      <th></th>\n",
       "    </tr>\n",
       "  </thead>\n",
       "  <tbody>\n",
       "    <tr>\n",
       "      <th>1</th>\n",
       "      <td>A4 Com Cola</td>\n",
       "      <td>14.0</td>\n",
       "      <td>19.9</td>\n",
       "      <td>0.21</td>\n",
       "      <td>15.72</td>\n",
       "    </tr>\n",
       "    <tr>\n",
       "      <th>2</th>\n",
       "      <td>A4 Sem Cola</td>\n",
       "      <td>13.0</td>\n",
       "      <td>18.9</td>\n",
       "      <td>0.21</td>\n",
       "      <td>14.93</td>\n",
       "    </tr>\n",
       "    <tr>\n",
       "      <th>3</th>\n",
       "      <td>30x30 Com Cola</td>\n",
       "      <td>16.0</td>\n",
       "      <td>21.9</td>\n",
       "      <td>0.21</td>\n",
       "      <td>17.30</td>\n",
       "    </tr>\n",
       "    <tr>\n",
       "      <th>4</th>\n",
       "      <td>30x30 Sem Cola</td>\n",
       "      <td>15.0</td>\n",
       "      <td>20.9</td>\n",
       "      <td>0.21</td>\n",
       "      <td>16.51</td>\n",
       "    </tr>\n",
       "  </tbody>\n",
       "</table>\n",
       "</div>"
      ],
      "text/plain": [
       "          Produtos  Preço de Compra  Preço de Venda  Marketplace Shopee  Lucro\n",
       "ID                                                                            \n",
       "1      A4 Com Cola             14.0            19.9                0.21  15.72\n",
       "2      A4 Sem Cola             13.0            18.9                0.21  14.93\n",
       "3   30x30 Com Cola             16.0            21.9                0.21  17.30\n",
       "4   30x30 Sem Cola             15.0            20.9                0.21  16.51"
      ]
     },
     "execution_count": 23,
     "metadata": {},
     "output_type": "execute_result"
    }
   ],
   "source": [
    "df_shopee"
   ]
  },
  {
   "cell_type": "code",
   "execution_count": 24,
   "metadata": {},
   "outputs": [],
   "source": [
    "with pd.ExcelWriter(\"Cadastro e Preço.xlsx\") as writer:\n",
    "    df_products.to_excel(writer, sheet_name=\"Produtos\")\n",
    "    df_amazon.to_excel(writer, sheet_name=\"Preços Amazon\")\n",
    "    df_shopee.to_excel(writer, sheet_name=\"Preços Shopee\")"
   ]
  },
  {
   "cell_type": "code",
   "execution_count": null,
   "metadata": {},
   "outputs": [],
   "source": []
  }
 ],
 "metadata": {
  "kernelspec": {
   "display_name": "Python 3",
   "language": "python",
   "name": "python3"
  },
  "language_info": {
   "codemirror_mode": {
    "name": "ipython",
    "version": 3
   },
   "file_extension": ".py",
   "mimetype": "text/x-python",
   "name": "python",
   "nbconvert_exporter": "python",
   "pygments_lexer": "ipython3",
   "version": "3.10.12"
  },
  "orig_nbformat": 4
 },
 "nbformat": 4,
 "nbformat_minor": 2
}
